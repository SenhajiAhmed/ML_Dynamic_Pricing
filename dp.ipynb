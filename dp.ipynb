{
 "cells": [
  {
   "cell_type": "markdown",
   "metadata": {},
   "source": [
    "### 1. Imports"
   ]
  },
  {
   "cell_type": "code",
   "execution_count": 47,
   "metadata": {},
   "outputs": [],
   "source": [
    "import pandas as pd\n",
    "import numpy as np\n",
    "from sklearn.model_selection import TimeSeriesSplit, GridSearchCV, train_test_split\n",
    "from sklearn.ensemble import GradientBoostingRegressor\n",
    "from sklearn.impute import SimpleImputer\n",
    "from sklearn.pipeline import Pipeline\n",
    "from sklearn.compose import ColumnTransformer\n",
    "from sklearn.preprocessing import OneHotEncoder\n",
    "from scipy.optimize import minimize_scalar\n",
    "import matplotlib.pyplot as plt\n",
    "from warnings import warn\n",
    "from joblib import Parallel, delayed\n",
    "import seaborn as sns\n"
   ]
  },
  {
   "cell_type": "markdown",
   "metadata": {},
   "source": [
    "### 2. Data Cleaning"
   ]
  },
  {
   "cell_type": "markdown",
   "metadata": {},
   "source": [
    "First, we `convert Order_Date` to a datetime format, dropping invalid entries (e.g., `2023-02-30` or text values) to ensure valid timestamps. Next, we `remove duplicates` based on user-defined columns like `duplicate_cols` (e.g., order IDs) to avoid double-counting transactions. We then `filter missing values` in critical fields specified by `drop_missing_cols` (e.g., *Customer_ID*) to retain complete records. Business rules are enforced by `filtering positive Quantity and Sales`, removing illogical values like negative orders. Finally, we `validate Profit` by excluding rows with missing or nonsensical financial data. The result is a cleaned dataset ready for reliable analysis.  "
   ]
  },
  {
   "cell_type": "code",
   "execution_count": 48,
   "metadata": {},
   "outputs": [],
   "source": [
    "def clean_data(df, duplicate_cols=None, drop_missing_cols=None):\n",
    "    df['Order_Date'] = pd.to_datetime(df['Order_Date'], errors='coerce')\n",
    "\n",
    "    if duplicate_cols:\n",
    "        df = df.drop_duplicates(subset=duplicate_cols, keep='first')\n",
    "    \n",
    "    if drop_missing_cols:\n",
    "        df = df.dropna(subset=drop_missing_cols)\n",
    "    \n",
    "    df = df[df['Quantity'] > 0]\n",
    "    df = df[(df['Sales'] > 0) & (df['Profit'].notna())]\n",
    "    \n",
    "    return df"
   ]
  },
  {
   "cell_type": "markdown",
   "metadata": {},
   "source": [
    "### 3. Feature Engineering Function"
   ]
  },
  {
   "cell_type": "markdown",
   "metadata": {},
   "source": [
    "The `engineer_features` function enhances the dataset by **deriving business‑critical metrics** from cleaned data. First, we **extract temporal features** like `DayOfWeek`, `Month`, and `Year` from the standardized `Order_Date` column to enable time‑based trend analysis. Next, we **calculate unit economics**: `Price` (total sales divided by quantity) and `Cost` (derived by subtracting profit and shipping costs from sales, then dividing by quantity). We then **compute the discount percentage** (`Discount_Pct = Discount / Sales`) and immediately **cap any outliers** of `Discount_Pct` using the IQR method—this ensures all discount values stay within a reasonable range before modeling. Finally, we **validate financial logic** by filtering out rows with non‑positive `Price` or `Cost` values, ensuring only meaningful unit economics remain. This transforms raw transactional data into enriched, cleaned features ready for profitability analysis, seasonality studies, and pricing optimization.\n"
   ]
  },
  {
   "cell_type": "code",
   "execution_count": 49,
   "metadata": {},
   "outputs": [],
   "source": [
    "def engineer_features(df, outlier_columns):\n",
    "    df['DayOfWeek'] = df['Order_Date'].dt.dayofweek\n",
    "    df['Month'] = df['Order_Date'].dt.month\n",
    "    df['Year'] = df['Order_Date'].dt.year\n",
    "    df['Order_Time']  = pd.to_datetime(df['Time'], format='%H:%M:%S').dt.hour\n",
    "    df['Price'] = df['Sales'] / df['Quantity']\n",
    "    df['Cost'] = (df['Sales'] - df['Profit'] - df['Shipping_Cost']) / df['Quantity']\n",
    "    df['Discount_Pct'] = df['Discount'] / df['Sales']\n",
    "\n",
    "    for col_ in outlier_columns:\n",
    "        Q1 = df[col_].quantile(0.25)\n",
    "        Q3 = df[col_].quantile(0.75)\n",
    "        IQR = Q3 - Q1\n",
    "        lower_bound = Q1 - 1.5 * IQR\n",
    "        upper_bound = Q3 + 1.5 * IQR\n",
    "        df[col_] = df[col_].clip(lower=lower_bound, upper=upper_bound)\n",
    "\n",
    "    priority_map = {'Low':0, 'Medium':1, 'High':2, 'Critical':3}\n",
    "    df['Order_Priority_Code'] = df['Order_Priority'].map(priority_map)\n",
    "    df['DayOfWeek_sin'] = np.sin(2*np.pi*df['DayOfWeek']/7)\n",
    "    df['DayOfWeek_cos'] = np.cos(2*np.pi*df['DayOfWeek']/7)\n",
    "    df['Month_sin']     = np.sin(2*np.pi*df['Month']/12)\n",
    "    df['Month_cos']     = np.cos(2*np.pi*df['Month']/12)\n",
    "    \n",
    "    df['Category_7d_Qty_MA']   = (\n",
    "        df.groupby('Product_Category')['Quantity']\n",
    "          .transform(lambda x: x.rolling(7,1).mean())\n",
    "    )\n",
    "\n",
    "    df['Category_7d_Sales_SD'] = (\n",
    "        df.groupby('Product_Category')['Sales']\n",
    "          .transform(lambda x: x.rolling(7,1).std())\n",
    "    )\n",
    "\n",
    "    df = df[(df['Price'] > 0) & (df['Cost'] > 0)]\n",
    "    \n",
    "    return df"
   ]
  },
  {
   "cell_type": "markdown",
   "metadata": {},
   "source": [
    "### 4. Data Splitting Function"
   ]
  },
  {
   "cell_type": "markdown",
   "metadata": {},
   "source": [
    "The `split_data` function creates training and testing sets while **preserving temporal relationships** critical for time-series analysis. First, we attempt a **time-based split** using the `Order_Date` column, dividing data at the 80th percentile date to ensure the test set contains the most recent 20% of transactions. If this fails (e.g., insufficient date coverage), we **fall back to a random split** with a warning, maintaining reproducibility via a fixed random seed. This dual strategy ensures models are validated on chronologically future data (mimicking real-world deployment) while providing a failsafe for datasets where time-based splitting isn’t feasible. By prioritizing temporal order, we prevent data leakage and enable robust evaluation of time-dependent patterns."
   ]
  },
  {
   "cell_type": "code",
   "execution_count": 50,
   "metadata": {},
   "outputs": [],
   "source": [
    "def split_data(df, test_size=0.2):\n",
    "    try:\n",
    "        split_date = df['Order_Date'].quantile(1 - test_size)\n",
    "        train_data = df[df['Order_Date'] < split_date]\n",
    "        test_data = df[df['Order_Date'] >= split_date]\n",
    "        \n",
    "        if len(test_data) == 0:\n",
    "            raise ValueError\n",
    "    except:\n",
    "        warn(\"Time-based split failed - using random split\")\n",
    "        train_data, test_data = train_test_split(df, test_size=test_size, random_state=42)\n",
    "    \n",
    "    return train_data, test_data"
   ]
  },
  {
   "cell_type": "markdown",
   "metadata": {},
   "source": [
    "### 5. Data Loading, Preprocessing & Exploratory Outlier Detection"
   ]
  },
  {
   "cell_type": "markdown",
   "metadata": {},
   "source": [
    " The pipeline **loads** the raw e‑commerce data from **`E-commerce Dataset.csv`**, then applies **data cleaning** to remove duplicates and handle missing values. It performs **feature engineering** to create temporal (e.g. `DayOfWeek`, `Month`, `Order_Time`) and economic features (`Price`, `Cost`, `Discount_Pct`, etc.).\n",
    "\n",
    " **Outlier Detection:** Next, the `outliers(data)` function runs an IQR‑based check on key numeric columns (`Price`, `Cost`, `Shipping_Cost`, `Discount_Pct`, `Category_7d_Qty_MA`, `Category_7d_Sales_SD`). For each column it:\n",
    "\n",
    " 1. Computes the 25th (Q1) and 75th (Q3) percentiles and the IQR = Q3 – Q1.\n",
    " 2. Defines lower and upper bounds at Q1 – 1.5·IQR and Q3 + 1.5·IQR.\n",
    " 3. Flags any column with more than 3 % of its values outside those bounds as needing treatment.\n",
    " 4. Immediately visualizes any flagged column with a Seaborn boxplot (e.g. for `Discount_Pct`) so you can confirm the extent and shape of the outliers.\n",
    "    The function returns a list of columns to cap or transform, which is then fed back into `engineer_features` to apply the chosen outlier‑handling (e.g. clipping) before modeling.\n",
    "\n",
    " After outlier handling, the system **calculates historical price‑change percentiles** (5th/95th) per product to set dynamic pricing bounds, **validates data integrity**, and finally performs a **temporal split** into training and testing sets. Throughout the process, robust **error handling** (with clear debugging tips on date formats, numeric columns, etc.) and chronological order guarantees a reliable, production‑ready preprocessing pipeline for time‑sensitive analysis.\n"
   ]
  },
  {
   "cell_type": "code",
   "execution_count": 51,
   "metadata": {},
   "outputs": [],
   "source": [
    "def outliers(data):  \n",
    "    cols_to_check = ['Price', 'Cost', 'Shipping_Cost', 'Discount_Pct','Category_7d_Qty_MA', 'Category_7d_Sales_SD']\n",
    "\n",
    "    outlier_columns = []\n",
    "    for col in cols_to_check:\n",
    "        Q1 = data[col].quantile(0.25)\n",
    "        Q3 = data[col].quantile(0.75)\n",
    "        IQR = Q3 - Q1\n",
    "        lower = Q1 - 1.5 * IQR\n",
    "        upper = Q3 + 1.5 * IQR\n",
    "\n",
    "        outliers = data[(data[col] < lower) | (data[col] > upper)]\n",
    "        percent_outliers = len(outliers) / len(data) * 100\n",
    "        \n",
    "        if percent_outliers > 3: \n",
    "            print(f\"{col}: {percent_outliers:.2f}% outliers → Needs treatment\")\n",
    "            outlier_columns.append(col)\n",
    "\n",
    "            sns.boxplot(data['Discount_Pct'])\n",
    "            plt.title(\"Boxplot for Discount_Pct\")\n",
    "            plt.show()\n",
    "        \n",
    "    return outlier_columns\n"
   ]
  },
  {
   "cell_type": "code",
   "execution_count": 52,
   "metadata": {},
   "outputs": [
    {
     "name": "stdout",
     "output_type": "stream",
     "text": [
      "Discount_Pct: 7.44% outliers → Needs treatment\n"
     ]
    },
    {
     "data": {
      "image/png": "[encoded data removed]",
      "text/plain": [
       "<Figure size 640x480 with 1 Axes>"
      ]
     },
     "metadata": {},
     "output_type": "display_data"
    }
   ],
   "source": [
    "try:\n",
    "    data = pd.read_csv(\"E-commerce Dataset.csv\")\n",
    "    data = clean_data(data, duplicate_cols=['Order_Date', 'Customer_Id'],drop_missing_cols=['Sales', 'Quantity', 'Profit'])\n",
    "    data = engineer_features(data, outlier_columns=[])\n",
    "    outlier_columns = outliers(data)\n",
    "    data = engineer_features(data, outlier_columns)\n",
    "    data = data.sort_values('Order_Date')\n",
    "    data['Pct_Price_Change'] = data.groupby('Product')['Price'].pct_change()\n",
    "\n",
    "    price_change_stats = (\n",
    "        data.groupby('Product')['Pct_Price_Change']\n",
    "            .quantile([0.05, 0.95])\n",
    "            .unstack(level=1)\n",
    "            .rename(columns={0.05: 'Pct_5', 0.95: 'Pct_95'})\n",
    "            .fillna(0)\n",
    "            .reset_index()\n",
    "    )\n",
    "\n",
    "    data = data.merge(price_change_stats, on='Product', how='left')\n",
    "    if data.empty:\n",
    "        raise ValueError(\"Clean dataset is empty after preprocessing\")\n",
    "    train_data, test_data = split_data(data)\n",
    "\n",
    "except Exception as e:\n",
    "    print(f\"\\nError: {str(e)}\")\n"
   ]
  },
  {
   "cell_type": "markdown",
   "metadata": {},
   "source": [
    "### 6. Model Setup \\& Training"
   ]
  },
  {
   "cell_type": "markdown",
   "metadata": {},
   "source": [
    " - **Gradient Boosting Regressor** with additive formulation:  \n",
    "  $$ F(x) = \\sum_{m=1}^M \\nu \\cdot h_m(x) $$  \n",
    "\n",
    "**Where**:\n",
    "\n",
    "* $h_m(x)$: Weak learner (decision tree) at iteration $m$\n",
    "* $\\nu$: Shrinkage factor (controlled by the `learning_rate` parameter)\n",
    "* $M$: Total number of trees (set via `n_estimators`)\n",
    "\n",
    "**Key Notes**:\n",
    "1. Each $ h_m(x) $ is trained on the residuals of the previous ensemble\n",
    "2. The learning rate $ \\nu $ scales each tree's contribution to prevent overfitting\n",
    "3. Implemented via `GradientBoostingRegressor` in scikit-learn\n",
    "   - **Grid Search** over 8 hyperparameter combinations (`n_estimators`, `learning_rate`, `max_depth`)  \n",
    "   - **TimeSeriesSplit validation** (3 folds) to prevent lookahead bias  \n",
    "\n",
    "4. **Robust Error Handling**:  \n",
    "   - Fallback to random splits if temporal validation fails  \n",
    "   - Pre-execution checks for data integrity (`empty` DataFrames, invalid dtypes)  \n",
    "\n",
    "**Key Output**:  \n",
    "- Best model parameters and **RMSE** (e.g., `2.35`)  \n",
    "- Reproducible pipeline architecture:  \n",
    "  ```plaintext\n",
    "  Raw Data → Cleaning → Feature Engineering → Preprocessor → Model → Optimization\n",
    "  ```  \n"
   ]
  },
  {
   "cell_type": "code",
   "execution_count": 53,
   "metadata": {},
   "outputs": [
    {
     "name": "stdout",
     "output_type": "stream",
     "text": [
      "Best Parameters: {'regressor__learning_rate': 0.1, 'regressor__max_depth': 5, 'regressor__n_estimators': 150}\n",
      "Best RMSE: 0.06\n"
     ]
    }
   ],
   "source": [
    "numeric_features = [\n",
    "    'Price', 'Cost', 'Shipping_Cost',\n",
    "    'Aging', 'Order_Time',           \n",
    "    'Discount_Pct',                  \n",
    "    'DayOfWeek_sin','DayOfWeek_cos', \n",
    "    'Month_sin','Month_cos',         \n",
    "    'Order_Priority_Code',            \n",
    "    'Category_7d_Qty_MA',            \n",
    "    'Category_7d_Sales_SD'           \n",
    "]\n",
    "categorical_features = [\n",
    "    'Gender', 'Device_Type', 'Customer_Login_type',\n",
    "    'Payment_method', 'Product_Category'\n",
    "]\n",
    "\n",
    "preprocessor = ColumnTransformer([\n",
    "    ('num', SimpleImputer(strategy='median'), numeric_features),\n",
    "    ('cat', OneHotEncoder(handle_unknown='ignore', sparse_output=False), categorical_features)\n",
    "])\n",
    "\n",
    "pipeline = Pipeline([\n",
    "    ('preprocessor', preprocessor),\n",
    "    ('regressor', GradientBoostingRegressor(random_state=42))\n",
    "])\n",
    "\n",
    "param_grid = {\n",
    "    'regressor__n_estimators': [100, 150],\n",
    "    'regressor__learning_rate': [0.05, 0.1],\n",
    "    'regressor__max_depth': [3, 5]\n",
    "}\n",
    "\n",
    "model = GridSearchCV(pipeline, param_grid, \n",
    "                    cv=TimeSeriesSplit(n_splits=3),\n",
    "                    scoring='neg_mean_squared_error')\n",
    "\n",
    "model.fit(train_data[numeric_features + categorical_features], \n",
    "         train_data['Quantity'])\n",
    "\n",
    "print(f\"Best Parameters: {model.best_params_}\")\n",
    "print(f\"Best RMSE: {np.sqrt(-model.best_score_):.2f}\")"
   ]
  },
  {
   "cell_type": "markdown",
   "metadata": {},
   "source": [
    "### 7. Price Optimization"
   ]
  },
  {
   "cell_type": "markdown",
   "metadata": {},
   "source": [
    "\n",
    "#### **1. Core Mathematical Model**  \n",
    "**Profit Maximization Objective**:  \n",
    "$$  \n",
    "\\pi(p) = (p - c)\\hat{q}(p) - s \\quad \\text{(Profit)}  \n",
    "$$  \n",
    "- **Key Variables**:  \n",
    "  - $ p $: Optimized price (decision variable)  \n",
    "  - $ c $: Unit cost (`Cost` column)  \n",
    "  - $ \\hat{q}(p) $: Gradient-boosted demand prediction  \n",
    "  - $ s $: Shipping cost  \n",
    "\n",
    "**Optimization**:  \n",
    "- Solved via **Brent's method** (1D bounded) on:  \n",
    "  $$ -\\pi(p) \\quad \\text{for } p \\in [p_{\\text{min}}, p_{\\text{max}}] $$  \n",
    "- **Convergence**: $$ |p_i - p_{i-1}| < 1\\text{e-}5 $$  \n",
    "\n",
    "---\n",
    "\n",
    "#### **2. Business Constraints**  \n",
    "**Price Bounds**:  \n",
    "$$  \n",
    "\\max(0.8c,\\, 0.7p_{\\text{curr}}) \\leq p \\leq \\min(1.5p_{\\text{curr}},\\, 2.0c)  \n",
    "$$  \n",
    "- **Enforced via**:  \n",
    "  ```python\n",
    "  min_price = max(cost * 0.8, current * 0.7)\n",
    "  max_price = min(cost * 2.0, current * 1.5)\n",
    "  ```\n",
    "\n",
    "**Demand Validation**:  \n",
    "$$ \\hat{q}(p) \\geq 0 \\quad \\text{(Clipped via } \\texttt{max(qty, 0)}) $$  \n",
    "\n",
    "---\n",
    "\n",
    "#### **3. Parallelized Implementation**  \n",
    "**Workflow**:  \n",
    "1. **Pre-transform Features**:  \n",
    "   ```python\n",
    "   X_trans_full = model.best_estimator_['preprocessor'].transform(X_full)\n",
    "   ```  \n",
    "2. **Parallel Optimization**:  \n",
    "   - Uses **`joblib.Parallel`** with `n_jobs=8`  \n",
    "   - Each product's price optimized independently via:  \n",
    "     ```python\n",
    "     results = Parallel(n_jobs=8)(delayed(optimize_price_vec)(...) for ...)\n",
    "     ```  \n",
    "3. **Efficiency Gains**:  \n",
    "   - Processes ~40 iterations/product concurrently  \n",
    "   - **10x speedup** vs. sequential (empirical testing)  \n",
    "\n",
    "**Key Functions**:  \n",
    "```python\n",
    "def optimize_price_vec(pos, row, X_trans_full):\n",
    "    # Positional slicing for thread-safety\n",
    "    row_vec = X_trans_full[pos:pos+1].copy()  \n",
    "    # ... Brent's method application ...\n",
    "    return round(res.x, 2), bound_hit\n",
    "```\n",
    "\n",
    "---\n",
    "\n",
    "#### **4. Output & Validation**  \n",
    "**Result Columns**:  \n",
    "| Column | Description |  \n",
    "|--------|-------------|  \n",
    "| `Optimal_Price` | $ p^* $ (rounded to 2 decimals) |  \n",
    "| `Predicted_Quantity` | $ \\hat{q}(p^*) $ |  \n",
    "| `Hit_Bound` | Boolean flag for constraint activation |  \n",
    "\n",
    "**Fallback Cases**:  \n",
    "- Returns original price if:  \n",
    "  - Invalid cost ($ c \\leq 0 $)  \n",
    "  - Bound inconsistency ($ p_{\\text{min}} \\geq p_{\\text{max}} $)  \n",
    "\n",
    "---\n",
    "\n",
    "#### **Business Integration**  \n",
    "| Technical Component | Business Value |  \n",
    "|---------------------|----------------|  \n",
    "| Parallelization | Enables store-wide optimization in minutes |  \n",
    "| Price Bounds | Prevents margin erosion and price shocks |  \n",
    "| Demand Clipping | Ensures realistic inventory planning |  \n",
    "\n",
    "**Why This Works**:  \n",
    "- **Mathematical Rigor**: Explicit profit maximization with constraints  \n",
    "- **Scalability**: Parallel execution handles 10K+ products efficiently  \n",
    "- **Stability**: Fallbacks maintain operational continuity  \n"
   ]
  },
  {
   "cell_type": "code",
   "execution_count": null,
   "metadata": {},
   "outputs": [],
   "source": [
    "X_full = test_data[numeric_features + categorical_features]\n",
    "X_trans_full = model.best_estimator_['preprocessor'].transform(X_full)\n",
    "\n",
    "def optimize_price_vec(pos, row, X_trans_full):\n",
    "    cost   = row['Cost']\n",
    "    shipping = row['Shipping_Cost']\n",
    "    current = row['Price']\n",
    "    if pd.isna(cost) or cost <= 0:\n",
    "        return current, False\n",
    "\n",
    "    min_price = max(cost * 0.8, current * 0.7)\n",
    "    max_price = min(cost * 2.0, current * 1.5)\n",
    "    if min_price >= max_price:\n",
    "        return current, False\n",
    "\n",
    "    price_col_idx = numeric_features.index('Price')\n",
    "\n",
    "    def neg_profit(p):\n",
    "        row_vec = X_trans_full[pos:pos+1].copy()\n",
    "        row_vec[0, price_col_idx] = p\n",
    "        qty = model.best_estimator_['regressor'].predict(row_vec)[0]\n",
    "        return -((p - cost) * max(qty, 0) - shipping)\n",
    "\n",
    "    res = minimize_scalar(neg_profit, bounds=(min_price, max_price), method='bounded')\n",
    "    hit = round(res.x, 2) in (round(min_price, 2), round(max_price, 2))\n",
    "    return round(res.x, 2), hit\n",
    "\n",
    "tasks = (\n",
    "    delayed(optimize_price_vec)(pos, row, X_trans_full)\n",
    "    for pos, (_, row) in enumerate(test_data.iterrows())\n",
    ")\n",
    "\n",
    "results = Parallel(n_jobs=8)(\n",
    "    tasks\n",
    ")\n",
    "\n",
    "optimal_prices, bound_hits = zip(*results)\n",
    "test_data['Optimal_Price'] = optimal_prices\n",
    "test_data['Hit_Bound']     = bound_hits\n",
    "test_data['Predicted_Quantity'] = model.best_estimator_['regressor'].predict(X_trans_full)\n"
   ]
  },
  {
   "cell_type": "code",
   "execution_count": 62,
   "metadata": {},
   "outputs": [
    {
     "name": "stdout",
     "output_type": "stream",
     "text": [
      "Index(['Order_Date', 'Time', 'Aging', 'Customer_Id', 'Gender', 'Device_Type',\n",
      "       'Customer_Login_type', 'Product_Category', 'Product', 'Sales',\n",
      "       'Quantity', 'Discount', 'Profit', 'Shipping_Cost', 'Order_Priority',\n",
      "       'Payment_method', 'DayOfWeek', 'Month', 'Year', 'Order_Time', 'Price',\n",
      "       'Cost', 'Discount_Pct', 'Order_Priority_Code', 'DayOfWeek_sin',\n",
      "       'DayOfWeek_cos', 'Month_sin', 'Month_cos', 'Category_7d_Qty_MA',\n",
      "       'Category_7d_Sales_SD', 'Pct_Price_Change', 'Pct_5', 'Pct_95',\n",
      "       'Profit_Current'],\n",
      "      dtype='object')\n"
     ]
    }
   ],
   "source": [
    "print(test_data.columns)\n"
   ]
  },
  {
   "cell_type": "markdown",
   "metadata": {},
   "source": [
    "### 8. Results & Visualization"
   ]
  },
  {
   "cell_type": "markdown",
   "metadata": {},
   "source": [
    "# Results & Visualization\n",
    "\n",
    "We quantify our optimization impact through key metrics and visualizations for actionable insights.\n",
    "\n",
    "Our primary metric is `Profit Lift`, calculated as:\n",
    "\n",
    "$$\\text{Profit Lift} = \\frac{\\text{Optimal Profit} - \\text{Current Profit}}{\\text{Current Profit}} \\times 100\\%$$\n",
    "\n",
    "Our visualization approach uses a scatter plot comparing `Current Price` vs `Optimal Price`, with color intensity representing profit magnitude. A reference line $$y = x$$ helps identify products requiring price adjustments.\n",
    "\n",
    "We highlight `Top 5 Improvements`to prioritize implementation efforts, providing detailed before-and-after comparisons of prices and profits for these high-impact products."
   ]
  },
  {
   "cell_type": "markdown",
   "metadata": {},
   "source": [
    "## **Results & Visualization**  \n",
    "**Quantifying optimization impact through key metrics and visual diagnostics**  \n",
    "\n",
    "### **Core Metric**  \n",
    "**Profit Lift**:  \n",
    "$$  \n",
    "\\text{Profit Lift} = \\frac{\\text{Optimal Profit} - \\text{Current Profit}}{\\text{Current Profit}} \\times 100\\%  \n",
    "$$  \n",
    "\n",
    "**Implementation**:  \n",
    "```python\n",
    "test_data['Profit_Current'] = (Price - Cost)*Quantity - Shipping_Cost  \n",
    "test_data['Profit_Optimal'] = (Optimal_Price - Cost)*Predicted_Quantity - Shipping_Cost\n",
    "```\n",
    "\n",
    "### **Visualization**  \n",
    "**Price Comparison Plot**:  \n",
    "\n",
    "Our visualization approach uses a scatter plot comparing `Current Price` vs `Optimal Price`, with color intensity representing profit magnitude. A reference line $$y = x$$ helps identify products requiring price adjustments.\n",
    "\n",
    "```python \n",
    "plt.scatter(Price, Optimal_Price, c=Profit_Optimal, cmap='viridis')\n",
    "plt.plot([0, max_price], [0, max_price], 'r--')  # y=x reference\n",
    "```  \n",
    "*Interpretation*: Points above red line need price increases  \n",
    "\n",
    "**Highligting Top 5 Improvements**:\n",
    "\n",
    "We highlight `Top 5 Improvements`to prioritize implementation efforts, providing detailed before-and-after comparisons of prices and profits for these high-impact products.\n"
   ]
  },
  {
   "cell_type": "code",
   "execution_count": null,
   "metadata": {},
   "outputs": [
    {
     "ename": "KeyError",
     "evalue": "'Optimal_Price'",
     "output_type": "error",
     "traceback": [
      "\u001b[31m---------------------------------------------------------------------------\u001b[39m",
      "\u001b[31mKeyError\u001b[39m                                  Traceback (most recent call last)",
      "\u001b[36mFile \u001b[39m\u001b[32mc:\\Users\\medse\\anaconda3\\Lib\\site-packages\\pandas\\core\\indexes\\base.py:3805\u001b[39m, in \u001b[36mIndex.get_loc\u001b[39m\u001b[34m(self, key)\u001b[39m\n\u001b[32m   3804\u001b[39m \u001b[38;5;28;01mtry\u001b[39;00m:\n\u001b[32m-> \u001b[39m\u001b[32m3805\u001b[39m     \u001b[38;5;28;01mreturn\u001b[39;00m \u001b[38;5;28;43mself\u001b[39;49m\u001b[43m.\u001b[49m\u001b[43m_engine\u001b[49m\u001b[43m.\u001b[49m\u001b[43mget_loc\u001b[49m\u001b[43m(\u001b[49m\u001b[43mcasted_key\u001b[49m\u001b[43m)\u001b[49m\n\u001b[32m   3806\u001b[39m \u001b[38;5;28;01mexcept\u001b[39;00m \u001b[38;5;167;01mKeyError\u001b[39;00m \u001b[38;5;28;01mas\u001b[39;00m err:\n",
      "\u001b[36mFile \u001b[39m\u001b[32mindex.pyx:167\u001b[39m, in \u001b[36mpandas._libs.index.IndexEngine.get_loc\u001b[39m\u001b[34m()\u001b[39m\n",
      "\u001b[36mFile \u001b[39m\u001b[32mindex.pyx:196\u001b[39m, in \u001b[36mpandas._libs.index.IndexEngine.get_loc\u001b[39m\u001b[34m()\u001b[39m\n",
      "\u001b[36mFile \u001b[39m\u001b[32mpandas\\\\_libs\\\\hashtable_class_helper.pxi:7081\u001b[39m, in \u001b[36mpandas._libs.hashtable.PyObjectHashTable.get_item\u001b[39m\u001b[34m()\u001b[39m\n",
      "\u001b[36mFile \u001b[39m\u001b[32mpandas\\\\_libs\\\\hashtable_class_helper.pxi:7089\u001b[39m, in \u001b[36mpandas._libs.hashtable.PyObjectHashTable.get_item\u001b[39m\u001b[34m()\u001b[39m\n",
      "\u001b[31mKeyError\u001b[39m: 'Optimal_Price'",
      "\nThe above exception was the direct cause of the following exception:\n",
      "\u001b[31mKeyError\u001b[39m                                  Traceback (most recent call last)",
      "\u001b[36mCell\u001b[39m\u001b[36m \u001b[39m\u001b[32mIn[67]\u001b[39m\u001b[32m, line 8\u001b[39m\n\u001b[32m      1\u001b[39m \u001b[38;5;28;01mif\u001b[39;00m \u001b[38;5;129;01mnot\u001b[39;00m test_data.empty:\n\u001b[32m      2\u001b[39m     test_data[\u001b[33m'\u001b[39m\u001b[33mProfit_Current\u001b[39m\u001b[33m'\u001b[39m] = (\n\u001b[32m      3\u001b[39m         (test_data[\u001b[33m'\u001b[39m\u001b[33mPrice\u001b[39m\u001b[33m'\u001b[39m] - test_data[\u001b[33m'\u001b[39m\u001b[33mCost\u001b[39m\u001b[33m'\u001b[39m])\n\u001b[32m      4\u001b[39m         * test_data[\u001b[33m'\u001b[39m\u001b[33mQuantity\u001b[39m\u001b[33m'\u001b[39m]\n\u001b[32m      5\u001b[39m         - test_data[\u001b[33m'\u001b[39m\u001b[33mShipping_Cost\u001b[39m\u001b[33m'\u001b[39m]\n\u001b[32m      6\u001b[39m     )\n\u001b[32m      7\u001b[39m     test_data[\u001b[33m'\u001b[39m\u001b[33mProfit_Optimal\u001b[39m\u001b[33m'\u001b[39m] = (\n\u001b[32m----> \u001b[39m\u001b[32m8\u001b[39m         (\u001b[43mtest_data\u001b[49m\u001b[43m[\u001b[49m\u001b[33;43m'\u001b[39;49m\u001b[33;43mOptimal_Price\u001b[39;49m\u001b[33;43m'\u001b[39;49m\u001b[43m]\u001b[49m - test_data[\u001b[33m'\u001b[39m\u001b[33mCost\u001b[39m\u001b[33m'\u001b[39m])\n\u001b[32m      9\u001b[39m         * test_data[\u001b[33m'\u001b[39m\u001b[33mPredicted_Quantity\u001b[39m\u001b[33m'\u001b[39m]\n\u001b[32m     10\u001b[39m         - test_data[\u001b[33m'\u001b[39m\u001b[33mShipping_Cost\u001b[39m\u001b[33m'\u001b[39m]\n\u001b[32m     11\u001b[39m     )\n\u001b[32m     13\u001b[39m     total_current = test_data[\u001b[33m'\u001b[39m\u001b[33mProfit_Current\u001b[39m\u001b[33m'\u001b[39m].sum()\n\u001b[32m     14\u001b[39m     total_optimal = test_data[\u001b[33m'\u001b[39m\u001b[33mProfit_Optimal\u001b[39m\u001b[33m'\u001b[39m].sum()\n",
      "\u001b[36mFile \u001b[39m\u001b[32mc:\\Users\\medse\\anaconda3\\Lib\\site-packages\\pandas\\core\\frame.py:4102\u001b[39m, in \u001b[36mDataFrame.__getitem__\u001b[39m\u001b[34m(self, key)\u001b[39m\n\u001b[32m   4100\u001b[39m \u001b[38;5;28;01mif\u001b[39;00m \u001b[38;5;28mself\u001b[39m.columns.nlevels > \u001b[32m1\u001b[39m:\n\u001b[32m   4101\u001b[39m     \u001b[38;5;28;01mreturn\u001b[39;00m \u001b[38;5;28mself\u001b[39m._getitem_multilevel(key)\n\u001b[32m-> \u001b[39m\u001b[32m4102\u001b[39m indexer = \u001b[38;5;28;43mself\u001b[39;49m\u001b[43m.\u001b[49m\u001b[43mcolumns\u001b[49m\u001b[43m.\u001b[49m\u001b[43mget_loc\u001b[49m\u001b[43m(\u001b[49m\u001b[43mkey\u001b[49m\u001b[43m)\u001b[49m\n\u001b[32m   4103\u001b[39m \u001b[38;5;28;01mif\u001b[39;00m is_integer(indexer):\n\u001b[32m   4104\u001b[39m     indexer = [indexer]\n",
      "\u001b[36mFile \u001b[39m\u001b[32mc:\\Users\\medse\\anaconda3\\Lib\\site-packages\\pandas\\core\\indexes\\base.py:3812\u001b[39m, in \u001b[36mIndex.get_loc\u001b[39m\u001b[34m(self, key)\u001b[39m\n\u001b[32m   3807\u001b[39m     \u001b[38;5;28;01mif\u001b[39;00m \u001b[38;5;28misinstance\u001b[39m(casted_key, \u001b[38;5;28mslice\u001b[39m) \u001b[38;5;129;01mor\u001b[39;00m (\n\u001b[32m   3808\u001b[39m         \u001b[38;5;28misinstance\u001b[39m(casted_key, abc.Iterable)\n\u001b[32m   3809\u001b[39m         \u001b[38;5;129;01mand\u001b[39;00m \u001b[38;5;28many\u001b[39m(\u001b[38;5;28misinstance\u001b[39m(x, \u001b[38;5;28mslice\u001b[39m) \u001b[38;5;28;01mfor\u001b[39;00m x \u001b[38;5;129;01min\u001b[39;00m casted_key)\n\u001b[32m   3810\u001b[39m     ):\n\u001b[32m   3811\u001b[39m         \u001b[38;5;28;01mraise\u001b[39;00m InvalidIndexError(key)\n\u001b[32m-> \u001b[39m\u001b[32m3812\u001b[39m     \u001b[38;5;28;01mraise\u001b[39;00m \u001b[38;5;167;01mKeyError\u001b[39;00m(key) \u001b[38;5;28;01mfrom\u001b[39;00m \u001b[34;01merr\u001b[39;00m\n\u001b[32m   3813\u001b[39m \u001b[38;5;28;01mexcept\u001b[39;00m \u001b[38;5;167;01mTypeError\u001b[39;00m:\n\u001b[32m   3814\u001b[39m     \u001b[38;5;66;03m# If we have a listlike key, _check_indexing_error will raise\u001b[39;00m\n\u001b[32m   3815\u001b[39m     \u001b[38;5;66;03m#  InvalidIndexError. Otherwise we fall through and re-raise\u001b[39;00m\n\u001b[32m   3816\u001b[39m     \u001b[38;5;66;03m#  the TypeError.\u001b[39;00m\n\u001b[32m   3817\u001b[39m     \u001b[38;5;28mself\u001b[39m._check_indexing_error(key)\n",
      "\u001b[31mKeyError\u001b[39m: 'Optimal_Price'"
     ]
    }
   ],
   "source": [
    "if not test_data.empty:\n",
    "    test_data['Profit_Current'] = (\n",
    "        (test_data['Price'] - test_data['Cost'])\n",
    "        * test_data['Quantity']\n",
    "        - test_data['Shipping_Cost']\n",
    "    )\n",
    "    test_data['Profit_Optimal'] = (\n",
    "        (test_data['Optimal_Price'] - test_data['Cost'])\n",
    "        * test_data['Predicted_Quantity']\n",
    "        - test_data['Shipping_Cost']\n",
    "    )\n",
    "\n",
    "    total_current = test_data['Profit_Current'].sum()\n",
    "    total_optimal = test_data['Profit_Optimal'].sum()\n",
    "    lift = total_optimal - total_current\n",
    "    profit_lift = lift / total_current if total_current else 0\n",
    "\n",
    "    print(f\"\\n🔍 Profit Summary:\")\n",
    "    print(f\"- Total Current Profit: ${total_current:,.2f}\")\n",
    "    print(f\"- Total Optimal Profit: ${total_optimal:,.2f}\")\n",
    "    print(f\"- Absolute Lift: ${lift:,.2f}\")\n",
    "    print(f\"- Relative Profit Lift: {profit_lift*100:.2f}%\")\n",
    "\n",
    "    test_data['Percent_Lift'] = ((test_data['Profit_Optimal'] - test_data['Profit_Current'])\n",
    "                                / test_data['Profit_Current']) * 100\n",
    "\n",
    "    if 'Hit_Bound' in test_data:\n",
    "        pct_hits = test_data['Hit_Bound'].mean() * 100\n",
    "        print(f\"Optimizer clipped to bounds on {pct_hits:.1f}% of SKUs.\")\n",
    "\n",
    "    plt.figure(figsize=(12, 6))\n",
    "    plt.scatter(test_data['Price'], test_data['Optimal_Price'],\n",
    "                c=test_data['Profit_Optimal'], cmap='viridis', alpha=0.7)\n",
    "    plt.colorbar(label='Optimal Profit')\n",
    "    plt.plot([0, test_data['Price'].max()], [0, test_data['Price'].max()], 'r--')\n",
    "    plt.xlabel('Current Price')\n",
    "    plt.ylabel('Optimal Price')\n",
    "    plt.title('Price Optimization Results')\n",
    "    plt.show()\n",
    "\n",
    "    top5 = (\n",
    "        test_data\n",
    "        .sort_values('Profit_Optimal', ascending=False)\n",
    "        .drop_duplicates(subset='Product')\n",
    "        .head(5)\n",
    "    )\n",
    "    print(\"\\nTop 5 Improvements:\")\n",
    "    print(top5[['Product','Price','Optimal_Price','Profit_Current','Profit_Optimal','Percent_Lift']])\n",
    "\n",
    "else:\n",
    "    print(\"\\nNo test data available for optimization\")\n"
   ]
  },
  {
   "cell_type": "code",
   "execution_count": 68,
   "metadata": {},
   "outputs": [
    {
     "ename": "KeyError",
     "evalue": "\"Column(s) ['Profit_Optimal'] do not exist\"",
     "output_type": "error",
     "traceback": [
      "\u001b[31m---------------------------------------------------------------------------\u001b[39m",
      "\u001b[31mKeyError\u001b[39m                                  Traceback (most recent call last)",
      "\u001b[36mCell\u001b[39m\u001b[36m \u001b[39m\u001b[32mIn[68]\u001b[39m\u001b[32m, line 4\u001b[39m\n\u001b[32m      1\u001b[39m agg = (\n\u001b[32m      2\u001b[39m     \u001b[43mtest_data\u001b[49m\n\u001b[32m      3\u001b[39m \u001b[43m    \u001b[49m\u001b[43m.\u001b[49m\u001b[43mgroupby\u001b[49m\u001b[43m(\u001b[49m\u001b[33;43m'\u001b[39;49m\u001b[33;43mProduct\u001b[39;49m\u001b[33;43m'\u001b[39;49m\u001b[43m)\u001b[49m\n\u001b[32m----> \u001b[39m\u001b[32m4\u001b[39m \u001b[43m    \u001b[49m\u001b[43m.\u001b[49m\u001b[43magg\u001b[49m\u001b[43m(\u001b[49m\u001b[43m{\u001b[49m\n\u001b[32m      5\u001b[39m \u001b[43m        \u001b[49m\u001b[33;43m'\u001b[39;49m\u001b[33;43mProfit_Current\u001b[39;49m\u001b[33;43m'\u001b[39;49m\u001b[43m:\u001b[49m\u001b[43m \u001b[49m\u001b[33;43m'\u001b[39;49m\u001b[33;43msum\u001b[39;49m\u001b[33;43m'\u001b[39;49m\u001b[43m,\u001b[49m\n\u001b[32m      6\u001b[39m \u001b[43m        \u001b[49m\u001b[33;43m'\u001b[39;49m\u001b[33;43mProfit_Optimal\u001b[39;49m\u001b[33;43m'\u001b[39;49m\u001b[43m:\u001b[49m\u001b[43m \u001b[49m\u001b[33;43m'\u001b[39;49m\u001b[33;43msum\u001b[39;49m\u001b[33;43m'\u001b[39;49m\n\u001b[32m      7\u001b[39m \u001b[43m    \u001b[49m\u001b[43m}\u001b[49m\u001b[43m)\u001b[49m\n\u001b[32m      8\u001b[39m     .reset_index()\n\u001b[32m      9\u001b[39m )\n\u001b[32m     10\u001b[39m agg[\u001b[33m'\u001b[39m\u001b[33mProfit_Lift_Pct\u001b[39m\u001b[33m'\u001b[39m] = (\n\u001b[32m     11\u001b[39m     (agg[\u001b[33m'\u001b[39m\u001b[33mProfit_Optimal\u001b[39m\u001b[33m'\u001b[39m] - agg[\u001b[33m'\u001b[39m\u001b[33mProfit_Current\u001b[39m\u001b[33m'\u001b[39m])\n\u001b[32m     12\u001b[39m     / agg[\u001b[33m'\u001b[39m\u001b[33mProfit_Current\u001b[39m\u001b[33m'\u001b[39m]\n\u001b[32m     13\u001b[39m ) * \u001b[32m100\u001b[39m\n\u001b[32m     15\u001b[39m plt.figure(figsize=(\u001b[32m12\u001b[39m, \u001b[32m6\u001b[39m))\n",
      "\u001b[36mFile \u001b[39m\u001b[32mc:\\Users\\medse\\anaconda3\\Lib\\site-packages\\pandas\\core\\groupby\\generic.py:1432\u001b[39m, in \u001b[36mDataFrameGroupBy.aggregate\u001b[39m\u001b[34m(self, func, engine, engine_kwargs, *args, **kwargs)\u001b[39m\n\u001b[32m   1429\u001b[39m     kwargs[\u001b[33m\"\u001b[39m\u001b[33mengine_kwargs\u001b[39m\u001b[33m\"\u001b[39m] = engine_kwargs\n\u001b[32m   1431\u001b[39m op = GroupByApply(\u001b[38;5;28mself\u001b[39m, func, args=args, kwargs=kwargs)\n\u001b[32m-> \u001b[39m\u001b[32m1432\u001b[39m result = \u001b[43mop\u001b[49m\u001b[43m.\u001b[49m\u001b[43magg\u001b[49m\u001b[43m(\u001b[49m\u001b[43m)\u001b[49m\n\u001b[32m   1433\u001b[39m \u001b[38;5;28;01mif\u001b[39;00m \u001b[38;5;129;01mnot\u001b[39;00m is_dict_like(func) \u001b[38;5;129;01mand\u001b[39;00m result \u001b[38;5;129;01mis\u001b[39;00m \u001b[38;5;129;01mnot\u001b[39;00m \u001b[38;5;28;01mNone\u001b[39;00m:\n\u001b[32m   1434\u001b[39m     \u001b[38;5;66;03m# GH #52849\u001b[39;00m\n\u001b[32m   1435\u001b[39m     \u001b[38;5;28;01mif\u001b[39;00m \u001b[38;5;129;01mnot\u001b[39;00m \u001b[38;5;28mself\u001b[39m.as_index \u001b[38;5;129;01mand\u001b[39;00m is_list_like(func):\n",
      "\u001b[36mFile \u001b[39m\u001b[32mc:\\Users\\medse\\anaconda3\\Lib\\site-packages\\pandas\\core\\apply.py:190\u001b[39m, in \u001b[36mApply.agg\u001b[39m\u001b[34m(self)\u001b[39m\n\u001b[32m    187\u001b[39m     \u001b[38;5;28;01mreturn\u001b[39;00m \u001b[38;5;28mself\u001b[39m.apply_str()\n\u001b[32m    189\u001b[39m \u001b[38;5;28;01mif\u001b[39;00m is_dict_like(func):\n\u001b[32m--> \u001b[39m\u001b[32m190\u001b[39m     \u001b[38;5;28;01mreturn\u001b[39;00m \u001b[38;5;28;43mself\u001b[39;49m\u001b[43m.\u001b[49m\u001b[43magg_dict_like\u001b[49m\u001b[43m(\u001b[49m\u001b[43m)\u001b[49m\n\u001b[32m    191\u001b[39m \u001b[38;5;28;01melif\u001b[39;00m is_list_like(func):\n\u001b[32m    192\u001b[39m     \u001b[38;5;66;03m# we require a list, but not a 'str'\u001b[39;00m\n\u001b[32m    193\u001b[39m     \u001b[38;5;28;01mreturn\u001b[39;00m \u001b[38;5;28mself\u001b[39m.agg_list_like()\n",
      "\u001b[36mFile \u001b[39m\u001b[32mc:\\Users\\medse\\anaconda3\\Lib\\site-packages\\pandas\\core\\apply.py:423\u001b[39m, in \u001b[36mApply.agg_dict_like\u001b[39m\u001b[34m(self)\u001b[39m\n\u001b[32m    415\u001b[39m \u001b[38;5;28;01mdef\u001b[39;00m \u001b[34magg_dict_like\u001b[39m(\u001b[38;5;28mself\u001b[39m) -> DataFrame | Series:\n\u001b[32m    416\u001b[39m \u001b[38;5;250m    \u001b[39m\u001b[33;03m\"\"\"\u001b[39;00m\n\u001b[32m    417\u001b[39m \u001b[33;03m    Compute aggregation in the case of a dict-like argument.\u001b[39;00m\n\u001b[32m    418\u001b[39m \n\u001b[32m   (...)\u001b[39m\u001b[32m    421\u001b[39m \u001b[33;03m    Result of aggregation.\u001b[39;00m\n\u001b[32m    422\u001b[39m \u001b[33;03m    \"\"\"\u001b[39;00m\n\u001b[32m--> \u001b[39m\u001b[32m423\u001b[39m     \u001b[38;5;28;01mreturn\u001b[39;00m \u001b[38;5;28;43mself\u001b[39;49m\u001b[43m.\u001b[49m\u001b[43magg_or_apply_dict_like\u001b[49m\u001b[43m(\u001b[49m\u001b[43mop_name\u001b[49m\u001b[43m=\u001b[49m\u001b[33;43m\"\u001b[39;49m\u001b[33;43magg\u001b[39;49m\u001b[33;43m\"\u001b[39;49m\u001b[43m)\u001b[49m\n",
      "\u001b[36mFile \u001b[39m\u001b[32mc:\\Users\\medse\\anaconda3\\Lib\\site-packages\\pandas\\core\\apply.py:1608\u001b[39m, in \u001b[36mGroupByApply.agg_or_apply_dict_like\u001b[39m\u001b[34m(self, op_name)\u001b[39m\n\u001b[32m   1603\u001b[39m     kwargs.update({\u001b[33m\"\u001b[39m\u001b[33mengine\u001b[39m\u001b[33m\"\u001b[39m: engine, \u001b[33m\"\u001b[39m\u001b[33mengine_kwargs\u001b[39m\u001b[33m\"\u001b[39m: engine_kwargs})\n\u001b[32m   1605\u001b[39m \u001b[38;5;28;01mwith\u001b[39;00m com.temp_setattr(\n\u001b[32m   1606\u001b[39m     obj, \u001b[33m\"\u001b[39m\u001b[33mas_index\u001b[39m\u001b[33m\"\u001b[39m, \u001b[38;5;28;01mTrue\u001b[39;00m, condition=\u001b[38;5;28mhasattr\u001b[39m(obj, \u001b[33m\"\u001b[39m\u001b[33mas_index\u001b[39m\u001b[33m\"\u001b[39m)\n\u001b[32m   1607\u001b[39m ):\n\u001b[32m-> \u001b[39m\u001b[32m1608\u001b[39m     result_index, result_data = \u001b[38;5;28;43mself\u001b[39;49m\u001b[43m.\u001b[49m\u001b[43mcompute_dict_like\u001b[49m\u001b[43m(\u001b[49m\n\u001b[32m   1609\u001b[39m \u001b[43m        \u001b[49m\u001b[43mop_name\u001b[49m\u001b[43m,\u001b[49m\u001b[43m \u001b[49m\u001b[43mselected_obj\u001b[49m\u001b[43m,\u001b[49m\u001b[43m \u001b[49m\u001b[43mselection\u001b[49m\u001b[43m,\u001b[49m\u001b[43m \u001b[49m\u001b[43mkwargs\u001b[49m\n\u001b[32m   1610\u001b[39m \u001b[43m    \u001b[49m\u001b[43m)\u001b[49m\n\u001b[32m   1611\u001b[39m result = \u001b[38;5;28mself\u001b[39m.wrap_results_dict_like(selected_obj, result_index, result_data)\n\u001b[32m   1612\u001b[39m \u001b[38;5;28;01mreturn\u001b[39;00m result\n",
      "\u001b[36mFile \u001b[39m\u001b[32mc:\\Users\\medse\\anaconda3\\Lib\\site-packages\\pandas\\core\\apply.py:462\u001b[39m, in \u001b[36mApply.compute_dict_like\u001b[39m\u001b[34m(self, op_name, selected_obj, selection, kwargs)\u001b[39m\n\u001b[32m    460\u001b[39m is_groupby = \u001b[38;5;28misinstance\u001b[39m(obj, (DataFrameGroupBy, SeriesGroupBy))\n\u001b[32m    461\u001b[39m func = cast(AggFuncTypeDict, \u001b[38;5;28mself\u001b[39m.func)\n\u001b[32m--> \u001b[39m\u001b[32m462\u001b[39m func = \u001b[38;5;28;43mself\u001b[39;49m\u001b[43m.\u001b[49m\u001b[43mnormalize_dictlike_arg\u001b[49m\u001b[43m(\u001b[49m\u001b[43mop_name\u001b[49m\u001b[43m,\u001b[49m\u001b[43m \u001b[49m\u001b[43mselected_obj\u001b[49m\u001b[43m,\u001b[49m\u001b[43m \u001b[49m\u001b[43mfunc\u001b[49m\u001b[43m)\u001b[49m\n\u001b[32m    464\u001b[39m is_non_unique_col = (\n\u001b[32m    465\u001b[39m     selected_obj.ndim == \u001b[32m2\u001b[39m\n\u001b[32m    466\u001b[39m     \u001b[38;5;129;01mand\u001b[39;00m selected_obj.columns.nunique() < \u001b[38;5;28mlen\u001b[39m(selected_obj.columns)\n\u001b[32m    467\u001b[39m )\n\u001b[32m    469\u001b[39m \u001b[38;5;28;01mif\u001b[39;00m selected_obj.ndim == \u001b[32m1\u001b[39m:\n\u001b[32m    470\u001b[39m     \u001b[38;5;66;03m# key only used for output\u001b[39;00m\n",
      "\u001b[36mFile \u001b[39m\u001b[32mc:\\Users\\medse\\anaconda3\\Lib\\site-packages\\pandas\\core\\apply.py:663\u001b[39m, in \u001b[36mApply.normalize_dictlike_arg\u001b[39m\u001b[34m(self, how, obj, func)\u001b[39m\n\u001b[32m    661\u001b[39m     cols = Index(\u001b[38;5;28mlist\u001b[39m(func.keys())).difference(obj.columns, sort=\u001b[38;5;28;01mTrue\u001b[39;00m)\n\u001b[32m    662\u001b[39m     \u001b[38;5;28;01mif\u001b[39;00m \u001b[38;5;28mlen\u001b[39m(cols) > \u001b[32m0\u001b[39m:\n\u001b[32m--> \u001b[39m\u001b[32m663\u001b[39m         \u001b[38;5;28;01mraise\u001b[39;00m \u001b[38;5;167;01mKeyError\u001b[39;00m(\u001b[33mf\u001b[39m\u001b[33m\"\u001b[39m\u001b[33mColumn(s) \u001b[39m\u001b[38;5;132;01m{\u001b[39;00m\u001b[38;5;28mlist\u001b[39m(cols)\u001b[38;5;132;01m}\u001b[39;00m\u001b[33m do not exist\u001b[39m\u001b[33m\"\u001b[39m)\n\u001b[32m    665\u001b[39m aggregator_types = (\u001b[38;5;28mlist\u001b[39m, \u001b[38;5;28mtuple\u001b[39m, \u001b[38;5;28mdict\u001b[39m)\n\u001b[32m    667\u001b[39m \u001b[38;5;66;03m# if we have a dict of any non-scalars\u001b[39;00m\n\u001b[32m    668\u001b[39m \u001b[38;5;66;03m# eg. {'A' : ['mean']}, normalize all to\u001b[39;00m\n\u001b[32m    669\u001b[39m \u001b[38;5;66;03m# be list-likes\u001b[39;00m\n\u001b[32m    670\u001b[39m \u001b[38;5;66;03m# Cannot use func.values() because arg may be a Series\u001b[39;00m\n",
      "\u001b[31mKeyError\u001b[39m: \"Column(s) ['Profit_Optimal'] do not exist\""
     ]
    }
   ],
   "source": [
    "agg = (\n",
    "    test_data\n",
    "    .groupby('Product')\n",
    "    .agg({\n",
    "        'Profit_Current': 'sum',\n",
    "        'Profit_Optimal': 'sum'\n",
    "    })\n",
    "    .reset_index()\n",
    ")\n",
    "agg['Profit_Lift_Pct'] = (\n",
    "    (agg['Profit_Optimal'] - agg['Profit_Current'])\n",
    "    / agg['Profit_Current']\n",
    ") * 100\n",
    "\n",
    "plt.figure(figsize=(12, 6))\n",
    "plt.bar(agg['Product'], agg['Profit_Lift_Pct'])\n",
    "plt.xticks(rotation=45, ha='right')\n",
    "plt.xlabel('Product')\n",
    "plt.ylabel('Profit Lift (%)')\n",
    "plt.title('Profit Lift by Product')\n",
    "plt.tight_layout()\n",
    "plt.show()\n"
   ]
  },
  {
   "cell_type": "code",
   "execution_count": null,
   "metadata": {},
   "outputs": [],
   "source": []
  }
 ],
 "metadata": {
  "kernelspec": {
   "display_name": "base",
   "language": "python",
   "name": "python3"
  },
  "language_info": {
   "codemirror_mode": {
    "name": "ipython",
    "version": 3
   },
   "file_extension": ".py",
   "mimetype": "text/x-python",
   "name": "python",
   "nbconvert_exporter": "python",
   "pygments_lexer": "ipython3",
   "version": "3.12.4"
  }
 },
 "nbformat": 4,
 "nbformat_minor": 2
}
